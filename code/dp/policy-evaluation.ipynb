{
 "cells": [
  {
   "cell_type": "code",
   "execution_count": 64,
   "metadata": {},
   "outputs": [],
   "source": [
    "import numpy as np\n",
    "import sys\n",
    "\n",
    "if \"../\" not in sys.path:\n",
    "  sys.path.append(\"../\") \n",
    "from env.gridworld import GridworldEnv"
   ]
  },
  {
   "cell_type": "code",
   "execution_count": 65,
   "metadata": {},
   "outputs": [],
   "source": [
    "env = GridworldEnv()\n",
    "\n",
    "#State transition probabilities. We assume full knowledge of the MDP\n",
    "P = env.P\n",
    "\n",
    "# Initialize value function to all 0s.\n",
    "V = np.zeros(env.nS)\n",
    "\n",
    "random_policy = np.ones([env.nS, env.nA]) / env.nA\n",
    "\n",
    "theta = 0.000001\n",
    "discount = 1.0"
   ]
  },
  {
   "cell_type": "code",
   "execution_count": 66,
   "metadata": {},
   "outputs": [],
   "source": [
    "while True:\n",
    "    delta = 0\n",
    "    \n",
    "    for s in range(env.nS):\n",
    "        v = 0\n",
    "        for a, action_prob in enumerate(random_policy[s]):\n",
    "            for prob, next_state, reward, done in P[s][a]:\n",
    "                v += action_prob * prob * (reward + discount * V[next_state])\n",
    "        delta = max(delta, np.abs(v-V[s]))\n",
    "        V[s] = v\n",
    "    \n",
    "    # If update is small, end cycle.\n",
    "    if delta < theta:\n",
    "        break"
   ]
  },
  {
   "cell_type": "code",
   "execution_count": 67,
   "metadata": {},
   "outputs": [
    {
     "data": {
      "text/plain": [
       "array([  0.        , -33.99998427, -51.92305267, -61.61535567,\n",
       "       -66.53843019, -68.53842922, -33.99998427, -46.07690197,\n",
       "       -56.15382045, -62.38458683, -65.46150851, -66.53843111,\n",
       "       -51.92305267, -56.15382045, -60.23074201, -62.30766442,\n",
       "       -62.38458766, -61.61535734, -61.61535567, -62.38458683,\n",
       "       -62.30766442, -60.23074281, -56.15382193, -51.92305474,\n",
       "       -66.53843019, -65.46150851, -62.38458766, -56.15382193,\n",
       "       -46.07690377, -33.99998603, -68.53842922, -66.53843111,\n",
       "       -61.61535734, -51.92305474, -33.99998603,   0.        ])"
      ]
     },
     "execution_count": 67,
     "metadata": {},
     "output_type": "execute_result"
    }
   ],
   "source": [
    "V"
   ]
  },
  {
   "cell_type": "code",
   "execution_count": null,
   "metadata": {},
   "outputs": [],
   "source": []
  }
 ],
 "metadata": {
  "kernelspec": {
   "display_name": "Python 3",
   "language": "python",
   "name": "python3"
  },
  "language_info": {
   "codemirror_mode": {
    "name": "ipython",
    "version": 3
   },
   "file_extension": ".py",
   "mimetype": "text/x-python",
   "name": "python",
   "nbconvert_exporter": "python",
   "pygments_lexer": "ipython3",
   "version": "3.6.1"
  }
 },
 "nbformat": 4,
 "nbformat_minor": 2
}
