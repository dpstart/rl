{
 "cells": [
  {
   "cell_type": "code",
   "execution_count": 4,
   "metadata": {},
   "outputs": [],
   "source": [
    "import numpy as np\n",
    "import sys\n",
    "\n",
    "if \"../\" not in sys.path:\n",
    "  sys.path.append(\"../\") \n",
    "from env.gridworld import GridworldEnv"
   ]
  },
  {
   "cell_type": "code",
   "execution_count": 5,
   "metadata": {},
   "outputs": [],
   "source": [
    "env = GridworldEnv()\n",
    "\n",
    "# State transition probabilities. \n",
    "# We assume full knowledge of the MDP.\n",
    "P = env.P\n",
    "\n",
    "# Initialize value function to all 0s.\n",
    "V = np.zeros(env.nS)\n",
    "\n",
    "# Initialize equiprobable policy (All actions equally probable).\n",
    "random_policy = np.ones([env.nS, env.nA]) / env.nA\n",
    "\n",
    "# Stopping condition.\n",
    "theta = 0.000001\n",
    "\n",
    "# Discount factor.\n",
    "discount = 1.0"
   ]
  },
  {
   "cell_type": "code",
   "execution_count": 6,
   "metadata": {},
   "outputs": [],
   "source": [
    "while True:\n",
    "    delta = 0\n",
    "    \n",
    "    for s in range(env.nS):\n",
    "        v = 0\n",
    "        for a, action_prob in enumerate(random_policy[s]):\n",
    "            for prob, next_state, reward, done in P[s][a]:\n",
    "                v += action_prob * prob * (reward + discount * V[next_state])\n",
    "        delta = max(delta, np.abs(v-V[s]))\n",
    "        V[s] = v\n",
    "\n",
    "    # If update is small, end cycle.\n",
    "    if delta < theta:\n",
    "        break"
   ]
  },
  {
   "cell_type": "code",
   "execution_count": 7,
   "metadata": {},
   "outputs": [
    {
     "data": {
      "text/plain": [
       "array([  0.        , -13.99999335, -19.99999044, -21.99998948,\n",
       "       -13.99999335, -17.99999184, -19.99999114, -19.99999125,\n",
       "       -19.99999044, -19.99999114, -17.99999253, -13.99999442,\n",
       "       -21.99998948, -19.99999125, -13.99999442,   0.        ])"
      ]
     },
     "execution_count": 7,
     "metadata": {},
     "output_type": "execute_result"
    }
   ],
   "source": [
    "V"
   ]
  },
  {
   "cell_type": "code",
   "execution_count": null,
   "metadata": {},
   "outputs": [],
   "source": []
  }
 ],
 "metadata": {
  "kernelspec": {
   "display_name": "Python 3",
   "language": "python",
   "name": "python3"
  },
  "language_info": {
   "codemirror_mode": {
    "name": "ipython",
    "version": 3
   },
   "file_extension": ".py",
   "mimetype": "text/x-python",
   "name": "python",
   "nbconvert_exporter": "python",
   "pygments_lexer": "ipython3",
   "version": "3.6.1"
  }
 },
 "nbformat": 4,
 "nbformat_minor": 2
}
