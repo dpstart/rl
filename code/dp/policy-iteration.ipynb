{
 "cells": [
  {
   "cell_type": "code",
   "execution_count": 1,
   "metadata": {},
   "outputs": [],
   "source": [
    "import numpy as np\n",
    "import sys\n",
    "\n",
    "if \"../\" not in sys.path:\n",
    "  sys.path.append(\"../\") \n",
    "from env.gridworld import GridworldEnv"
   ]
  },
  {
   "cell_type": "code",
   "execution_count": 2,
   "metadata": {},
   "outputs": [],
   "source": [
    "env = GridworldEnv()\n",
    "\n",
    "#State transition probabilities. We assume full knowledge of the MDP\n",
    "P = env.P\n",
    "\n",
    "\n",
    "policy = np.ones([env.nS, env.nA]) / env.nA\n",
    "\n",
    "theta = 0.000001\n",
    "discount = 1.0"
   ]
  },
  {
   "cell_type": "code",
   "execution_count": 3,
   "metadata": {},
   "outputs": [],
   "source": [
    "def evaluate_policy(policy):\n",
    "    delta = 0\n",
    "    # Initialize value function to all 0s.\n",
    "    V = np.zeros(env.nS)\n",
    "    \n",
    "    while True:\n",
    "    \n",
    "        for s in range(env.nS):\n",
    "            v = 0\n",
    "            for a, action_prob in enumerate(policy[s]):\n",
    "                for prob, next_state, reward, done in P[s][a]:\n",
    "                    v += action_prob * prob * (reward + discount * V[next_state])\n",
    "            delta = max(delta, np.abs(v-V[s]))\n",
    "            V[s] = v\n",
    "            \n",
    "        # If update is small, end cycle.\n",
    "        if delta < theta:\n",
    "            break\n",
    "        \n",
    "    return V"
   ]
  },
  {
   "cell_type": "code",
   "execution_count": null,
   "metadata": {},
   "outputs": [],
   "source": [
    "def one_step_lookahead(state, V):\n",
    "        \"\"\"\n",
    "        Helper function to calculate the value for all action in a given state.\n",
    "        \n",
    "        Args:\n",
    "            state: The state to consider (int)\n",
    "            V: The value to use as an estimator, Vector of length env.nS\n",
    "        \n",
    "        Returns:\n",
    "            A vector of length env.nA containing the expected value of each action.\n",
    "        \"\"\"\n",
    "        A = np.zeros(env.nA)\n",
    "        for a in range(env.nA):\n",
    "            for prob, next_state, reward, done in env.P[state][a]:\n",
    "                A[a] += prob * (reward + discount * V[next_state])\n",
    "        return A\n",
    "\n",
    "while True:\n",
    "    \n",
    "    # Policy evaluation\n",
    "    V = evaluate_policy(policy)\n",
    "    stable = True\n",
    "        \n",
    "    # Policy improvement\n",
    "    for s in range(env.nS):\n",
    "        \n",
    "        choosen_a = np.argmax(policy[s])\n",
    "        \n",
    "        action_values = one_step_lookahead(s, V)\n",
    "        best_a = np.argmax(action_values)\n",
    "        \n",
    "        \n",
    "        if best_a != choosen_a:\n",
    "            stable = False\n",
    "        policy[s] = np.eye(env.nA)[best_a]\n",
    "        \n",
    "        if stable:\n",
    "            break"
   ]
  },
  {
   "cell_type": "code",
   "execution_count": null,
   "metadata": {},
   "outputs": [],
   "source": []
  }
 ],
 "metadata": {
  "kernelspec": {
   "display_name": "Python 3",
   "language": "python",
   "name": "python3"
  },
  "language_info": {
   "codemirror_mode": {
    "name": "ipython",
    "version": 3
   },
   "file_extension": ".py",
   "mimetype": "text/x-python",
   "name": "python",
   "nbconvert_exporter": "python",
   "pygments_lexer": "ipython3",
   "version": "3.6.5"
  }
 },
 "nbformat": 4,
 "nbformat_minor": 2
}
